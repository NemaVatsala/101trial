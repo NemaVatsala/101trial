{
  "nbformat": 4,
  "nbformat_minor": 0,
  "metadata": {
    "accelerator": "GPU",
    "colab": {
      "name": "HPC Workshop day2.ipynb",
      "provenance": [],
      "authorship_tag": "ABX9TyPME7gro1sGUmeSO8v273Kn",
      "include_colab_link": true
    },
    "kernelspec": {
      "display_name": "Python 3",
      "name": "python3"
    },
    "language_info": {
      "name": "python"
    }
  },
  "cells": [
    {
      "cell_type": "markdown",
      "metadata": {
        "id": "view-in-github",
        "colab_type": "text"
      },
      "source": [
        "<a href=\"https://colab.research.google.com/github/NemaVatsala/101trial/blob/master/HPC_Workshop_day2.ipynb\" target=\"_parent\"><img src=\"https://colab.research.google.com/assets/colab-badge.svg\" alt=\"Open In Colab\"/></a>"
      ]
    },
    {
      "cell_type": "code",
      "metadata": {
        "colab": {
          "background_save": true,
          "base_uri": "https://localhost:8080/"
        },
        "id": "eazt8NRobtgw",
        "outputId": "06468d23-46d8-4801-b8bc-08833426d0dd"
      },
      "source": [
        "!ls /usr/local/cuda"
      ],
      "execution_count": null,
      "outputs": [
        {
          "output_type": "stream",
          "text": [
            "bin\tEULA.txt  lib64\t\t    nvml     Sanitizer\ttargets\n",
            "compat\textras\t  libnvvp\t    nvvm     share\ttools\n",
            "doc\tinclude   nsightee_plugins  samples  src\tversion.txt\n"
          ],
          "name": "stdout"
        }
      ]
    },
    {
      "cell_type": "code",
      "metadata": {
        "colab": {
          "base_uri": "https://localhost:8080/"
        },
        "id": "TylksfIOeQV1",
        "outputId": "a836953e-2418-45d5-e07e-4716e7e8e770"
      },
      "source": [
        "%%writefile numdevices.c\n",
        "\n",
        "#include <stdio.h>\n",
        "#include <omp.h>\n",
        "\n",
        "int main() {\n",
        "    int Numdevices = omp_get_num_devices();\n",
        "    printf(\"number of devices= %d\", Numdevices);\n",
        "}"
      ],
      "execution_count": null,
      "outputs": [
        {
          "output_type": "stream",
          "text": [
            "Writing numdevices.c\n"
          ],
          "name": "stdout"
        }
      ]
    },
    {
      "cell_type": "code",
      "metadata": {
        "colab": {
          "base_uri": "https://localhost:8080/"
        },
        "id": "uthkIOG9eb1t",
        "outputId": "fb3a99b8-c230-456a-ed70-623a77f39675"
      },
      "source": [
        "!true | add-apt-repository ppa:ubuntu-toolchain-r/test"
      ],
      "execution_count": null,
      "outputs": [
        {
          "output_type": "stream",
          "text": [
            " Toolchain test builds; see https://wiki.ubuntu.com/ToolChain\n",
            "\n",
            " More info: https://launchpad.net/~ubuntu-toolchain-r/+archive/ubuntu/test\n",
            "Get:1 http://security.ubuntu.com/ubuntu bionic-security InRelease [88.7 kB]\n",
            "Get:2 https://cloud.r-project.org/bin/linux/ubuntu bionic-cran40/ InRelease [3,626 B]\n",
            "Ign:3 https://developer.download.nvidia.com/compute/cuda/repos/ubuntu1804/x86_64  InRelease\n",
            "Hit:4 http://archive.ubuntu.com/ubuntu bionic InRelease\n",
            "Ign:5 https://developer.download.nvidia.com/compute/machine-learning/repos/ubuntu1804/x86_64  InRelease\n",
            "Hit:6 https://developer.download.nvidia.com/compute/cuda/repos/ubuntu1804/x86_64  Release\n",
            "Hit:7 https://developer.download.nvidia.com/compute/machine-learning/repos/ubuntu1804/x86_64  Release\n",
            "Get:8 http://ppa.launchpad.net/c2d4u.team/c2d4u4.0+/ubuntu bionic InRelease [15.9 kB]\n",
            "Get:9 http://archive.ubuntu.com/ubuntu bionic-updates InRelease [88.7 kB]\n",
            "Get:10 http://security.ubuntu.com/ubuntu bionic-security/restricted amd64 Packages [348 kB]\n",
            "Hit:11 http://ppa.launchpad.net/cran/libgit2/ubuntu bionic InRelease\n",
            "Get:12 http://security.ubuntu.com/ubuntu bionic-security/universe amd64 Packages [1,402 kB]\n",
            "Get:13 http://security.ubuntu.com/ubuntu bionic-security/main amd64 Packages [2,045 kB]\n",
            "Get:14 http://archive.ubuntu.com/ubuntu bionic-backports InRelease [74.6 kB]\n",
            "Hit:15 http://ppa.launchpad.net/deadsnakes/ppa/ubuntu bionic InRelease\n",
            "Get:16 http://ppa.launchpad.net/graphics-drivers/ppa/ubuntu bionic InRelease [21.3 kB]\n",
            "Get:18 http://ppa.launchpad.net/ubuntu-toolchain-r/test/ubuntu bionic InRelease [15.4 kB]\n",
            "Get:20 http://ppa.launchpad.net/c2d4u.team/c2d4u4.0+/ubuntu bionic/main Sources [1,748 kB]\n",
            "Get:21 http://archive.ubuntu.com/ubuntu bionic-updates/restricted amd64 Packages [378 kB]\n",
            "Get:22 http://archive.ubuntu.com/ubuntu bionic-updates/main amd64 Packages [2,475 kB]\n",
            "Get:23 http://archive.ubuntu.com/ubuntu bionic-updates/universe amd64 Packages [2,170 kB]\n",
            "Get:24 http://ppa.launchpad.net/c2d4u.team/c2d4u4.0+/ubuntu bionic/main amd64 Packages [894 kB]\n",
            "Get:25 http://ppa.launchpad.net/graphics-drivers/ppa/ubuntu bionic/main amd64 Packages [49.4 kB]\n",
            "Get:26 http://ppa.launchpad.net/ubuntu-toolchain-r/test/ubuntu bionic/main amd64 Packages [39.9 kB]\n",
            "Fetched 11.9 MB in 3s (3,808 kB/s)\n",
            "Reading package lists... Done\n"
          ],
          "name": "stdout"
        }
      ]
    },
    {
      "cell_type": "code",
      "metadata": {
        "colab": {
          "base_uri": "https://localhost:8080/"
        },
        "id": "lgVQHcTYe0Ft",
        "outputId": "a540d53b-eb1a-46de-8ef3-5b7e44c0e2bc"
      },
      "source": [
        "!apt install gcc-10 g++-10 gcc-10-offload-nvptx libgomp1"
      ],
      "execution_count": null,
      "outputs": [
        {
          "output_type": "stream",
          "text": [
            "Reading package lists... Done\n",
            "Building dependency tree       \n",
            "Reading state information... Done\n",
            "The following additional packages will be installed:\n",
            "  cpp-10 gcc-10-base libasan6 libatomic1 libcc1-0 libgcc-10-dev libgcc-s1\n",
            "  libgomp-plugin-nvptx1 libitm1 liblsan0 libquadmath0 libstdc++-10-dev\n",
            "  libstdc++6 libtsan0 libubsan1 nvptx-tools\n",
            "Suggested packages:\n",
            "  gcc-10-locales g++-10-multilib gcc-10-doc libstdc++6-10-dbg gcc-10-multilib\n",
            "  libgcc-s1-dbg libgomp1-dbg libitm1-dbg libatomic1-dbg libasan6-dbg\n",
            "  liblsan0-dbg libtsan0-dbg libubsan1-dbg libquadmath0-dbg libstdc++-10-doc\n",
            "  nvidia-cuda-toolkit\n",
            "The following NEW packages will be installed:\n",
            "  cpp-10 g++-10 gcc-10 gcc-10-base gcc-10-offload-nvptx libasan6 libgcc-10-dev\n",
            "  libgcc-s1 libgomp-plugin-nvptx1 libstdc++-10-dev libubsan1 nvptx-tools\n",
            "The following packages will be upgraded:\n",
            "  libatomic1 libcc1-0 libgomp1 libitm1 liblsan0 libquadmath0 libstdc++6\n",
            "  libtsan0\n",
            "8 upgraded, 12 newly installed, 0 to remove and 63 not upgraded.\n",
            "Need to get 48.3 MB of archives.\n",
            "After this operation, 214 MB of additional disk space will be used.\n",
            "Get:1 http://ppa.launchpad.net/ubuntu-toolchain-r/test/ubuntu bionic/main amd64 gcc-10-base amd64 10.1.0-2ubuntu1~18.04 [20.1 kB]\n",
            "Get:2 http://archive.ubuntu.com/ubuntu bionic/universe amd64 nvptx-tools amd64 0.20180301-1 [27.8 kB]\n",
            "Get:3 http://ppa.launchpad.net/ubuntu-toolchain-r/test/ubuntu bionic/main amd64 libgcc-s1 amd64 10.1.0-2ubuntu1~18.04 [41.3 kB]\n",
            "Get:4 http://ppa.launchpad.net/ubuntu-toolchain-r/test/ubuntu bionic/main amd64 libstdc++6 amd64 10.1.0-2ubuntu1~18.04 [500 kB]\n",
            "Get:5 http://ppa.launchpad.net/ubuntu-toolchain-r/test/ubuntu bionic/main amd64 cpp-10 amd64 10.1.0-2ubuntu1~18.04 [8,036 kB]\n",
            "Get:6 http://ppa.launchpad.net/ubuntu-toolchain-r/test/ubuntu bionic/main amd64 libcc1-0 amd64 10.1.0-2ubuntu1~18.04 [40.8 kB]\n",
            "Get:7 http://ppa.launchpad.net/ubuntu-toolchain-r/test/ubuntu bionic/main amd64 libgomp1 amd64 10.1.0-2ubuntu1~18.04 [100 kB]\n",
            "Get:8 http://ppa.launchpad.net/ubuntu-toolchain-r/test/ubuntu bionic/main amd64 libitm1 amd64 10.1.0-2ubuntu1~18.04 [26.0 kB]\n",
            "Get:9 http://ppa.launchpad.net/ubuntu-toolchain-r/test/ubuntu bionic/main amd64 libatomic1 amd64 10.1.0-2ubuntu1~18.04 [9,220 B]\n",
            "Get:10 http://ppa.launchpad.net/ubuntu-toolchain-r/test/ubuntu bionic/main amd64 libasan6 amd64 10.1.0-2ubuntu1~18.04 [344 kB]\n",
            "Get:11 http://ppa.launchpad.net/ubuntu-toolchain-r/test/ubuntu bionic/main amd64 liblsan0 amd64 10.1.0-2ubuntu1~18.04 [144 kB]\n",
            "Get:12 http://ppa.launchpad.net/ubuntu-toolchain-r/test/ubuntu bionic/main amd64 libtsan0 amd64 10.1.0-2ubuntu1~18.04 [318 kB]\n",
            "Get:13 http://ppa.launchpad.net/ubuntu-toolchain-r/test/ubuntu bionic/main amd64 libubsan1 amd64 10.1.0-2ubuntu1~18.04 [136 kB]\n",
            "Get:14 http://ppa.launchpad.net/ubuntu-toolchain-r/test/ubuntu bionic/main amd64 libquadmath0 amd64 10.1.0-2ubuntu1~18.04 [146 kB]\n",
            "Get:15 http://ppa.launchpad.net/ubuntu-toolchain-r/test/ubuntu bionic/main amd64 libgcc-10-dev amd64 10.1.0-2ubuntu1~18.04 [2,337 kB]\n",
            "Get:16 http://ppa.launchpad.net/ubuntu-toolchain-r/test/ubuntu bionic/main amd64 gcc-10 amd64 10.1.0-2ubuntu1~18.04 [16.3 MB]\n",
            "Get:17 http://ppa.launchpad.net/ubuntu-toolchain-r/test/ubuntu bionic/main amd64 libstdc++-10-dev amd64 10.1.0-2ubuntu1~18.04 [1,742 kB]\n",
            "Get:18 http://ppa.launchpad.net/ubuntu-toolchain-r/test/ubuntu bionic/main amd64 g++-10 amd64 10.1.0-2ubuntu1~18.04 [9,024 kB]\n",
            "Get:19 http://ppa.launchpad.net/ubuntu-toolchain-r/test/ubuntu bionic/main amd64 libgomp-plugin-nvptx1 amd64 10.1.0-2ubuntu1~18.04 [13.7 kB]\n",
            "Get:20 http://ppa.launchpad.net/ubuntu-toolchain-r/test/ubuntu bionic/main amd64 gcc-10-offload-nvptx amd64 10.1.0-2ubuntu1~18.04 [8,981 kB]\n",
            "Fetched 48.3 MB in 9s (5,092 kB/s)\n",
            "Selecting previously unselected package gcc-10-base:amd64.\n",
            "(Reading database ... 160980 files and directories currently installed.)\n",
            "Preparing to unpack .../gcc-10-base_10.1.0-2ubuntu1~18.04_amd64.deb ...\n",
            "Unpacking gcc-10-base:amd64 (10.1.0-2ubuntu1~18.04) ...\n",
            "Setting up gcc-10-base:amd64 (10.1.0-2ubuntu1~18.04) ...\n",
            "Selecting previously unselected package libgcc-s1:amd64.\n",
            "(Reading database ... 160985 files and directories currently installed.)\n",
            "Preparing to unpack .../libgcc-s1_10.1.0-2ubuntu1~18.04_amd64.deb ...\n",
            "Unpacking libgcc-s1:amd64 (10.1.0-2ubuntu1~18.04) ...\n",
            "Replacing files in old package libgcc1:amd64 (1:8.4.0-1ubuntu1~18.04) ...\n",
            "Setting up libgcc-s1:amd64 (10.1.0-2ubuntu1~18.04) ...\n",
            "(Reading database ... 160987 files and directories currently installed.)\n",
            "Preparing to unpack .../libstdc++6_10.1.0-2ubuntu1~18.04_amd64.deb ...\n",
            "Unpacking libstdc++6:amd64 (10.1.0-2ubuntu1~18.04) over (8.4.0-1ubuntu1~18.04) ...\n",
            "Setting up libstdc++6:amd64 (10.1.0-2ubuntu1~18.04) ...\n",
            "Selecting previously unselected package cpp-10.\n",
            "(Reading database ... 160987 files and directories currently installed.)\n",
            "Preparing to unpack .../00-cpp-10_10.1.0-2ubuntu1~18.04_amd64.deb ...\n",
            "Unpacking cpp-10 (10.1.0-2ubuntu1~18.04) ...\n",
            "Preparing to unpack .../01-libcc1-0_10.1.0-2ubuntu1~18.04_amd64.deb ...\n",
            "Unpacking libcc1-0:amd64 (10.1.0-2ubuntu1~18.04) over (8.4.0-1ubuntu1~18.04) ...\n",
            "Preparing to unpack .../02-libgomp1_10.1.0-2ubuntu1~18.04_amd64.deb ...\n",
            "Unpacking libgomp1:amd64 (10.1.0-2ubuntu1~18.04) over (8.4.0-1ubuntu1~18.04) ...\n",
            "Preparing to unpack .../03-libitm1_10.1.0-2ubuntu1~18.04_amd64.deb ...\n",
            "Unpacking libitm1:amd64 (10.1.0-2ubuntu1~18.04) over (8.4.0-1ubuntu1~18.04) ...\n",
            "Preparing to unpack .../04-libatomic1_10.1.0-2ubuntu1~18.04_amd64.deb ...\n",
            "Unpacking libatomic1:amd64 (10.1.0-2ubuntu1~18.04) over (8.4.0-1ubuntu1~18.04) ...\n",
            "Selecting previously unselected package libasan6:amd64.\n",
            "Preparing to unpack .../05-libasan6_10.1.0-2ubuntu1~18.04_amd64.deb ...\n",
            "Unpacking libasan6:amd64 (10.1.0-2ubuntu1~18.04) ...\n",
            "Preparing to unpack .../06-liblsan0_10.1.0-2ubuntu1~18.04_amd64.deb ...\n",
            "Unpacking liblsan0:amd64 (10.1.0-2ubuntu1~18.04) over (8.4.0-1ubuntu1~18.04) ...\n",
            "Preparing to unpack .../07-libtsan0_10.1.0-2ubuntu1~18.04_amd64.deb ...\n",
            "Unpacking libtsan0:amd64 (10.1.0-2ubuntu1~18.04) over (8.4.0-1ubuntu1~18.04) ...\n",
            "Selecting previously unselected package libubsan1:amd64.\n",
            "Preparing to unpack .../08-libubsan1_10.1.0-2ubuntu1~18.04_amd64.deb ...\n",
            "Unpacking libubsan1:amd64 (10.1.0-2ubuntu1~18.04) ...\n",
            "Preparing to unpack .../09-libquadmath0_10.1.0-2ubuntu1~18.04_amd64.deb ...\n",
            "Unpacking libquadmath0:amd64 (10.1.0-2ubuntu1~18.04) over (8.4.0-1ubuntu1~18.04) ...\n",
            "Selecting previously unselected package libgcc-10-dev:amd64.\n",
            "Preparing to unpack .../10-libgcc-10-dev_10.1.0-2ubuntu1~18.04_amd64.deb ...\n",
            "Unpacking libgcc-10-dev:amd64 (10.1.0-2ubuntu1~18.04) ...\n",
            "Selecting previously unselected package gcc-10.\n",
            "Preparing to unpack .../11-gcc-10_10.1.0-2ubuntu1~18.04_amd64.deb ...\n",
            "Unpacking gcc-10 (10.1.0-2ubuntu1~18.04) ...\n",
            "Selecting previously unselected package libstdc++-10-dev:amd64.\n",
            "Preparing to unpack .../12-libstdc++-10-dev_10.1.0-2ubuntu1~18.04_amd64.deb ...\n",
            "Unpacking libstdc++-10-dev:amd64 (10.1.0-2ubuntu1~18.04) ...\n",
            "Selecting previously unselected package g++-10.\n",
            "Preparing to unpack .../13-g++-10_10.1.0-2ubuntu1~18.04_amd64.deb ...\n",
            "Unpacking g++-10 (10.1.0-2ubuntu1~18.04) ...\n",
            "Selecting previously unselected package nvptx-tools.\n",
            "Preparing to unpack .../14-nvptx-tools_0.20180301-1_amd64.deb ...\n",
            "Unpacking nvptx-tools (0.20180301-1) ...\n",
            "Selecting previously unselected package libgomp-plugin-nvptx1:amd64.\n",
            "Preparing to unpack .../15-libgomp-plugin-nvptx1_10.1.0-2ubuntu1~18.04_amd64.deb ...\n",
            "Unpacking libgomp-plugin-nvptx1:amd64 (10.1.0-2ubuntu1~18.04) ...\n",
            "Selecting previously unselected package gcc-10-offload-nvptx.\n",
            "Preparing to unpack .../16-gcc-10-offload-nvptx_10.1.0-2ubuntu1~18.04_amd64.deb ...\n",
            "Unpacking gcc-10-offload-nvptx (10.1.0-2ubuntu1~18.04) ...\n",
            "Setting up libquadmath0:amd64 (10.1.0-2ubuntu1~18.04) ...\n",
            "Setting up libgomp1:amd64 (10.1.0-2ubuntu1~18.04) ...\n",
            "Setting up libatomic1:amd64 (10.1.0-2ubuntu1~18.04) ...\n",
            "Setting up nvptx-tools (0.20180301-1) ...\n",
            "Setting up libcc1-0:amd64 (10.1.0-2ubuntu1~18.04) ...\n",
            "Setting up cpp-10 (10.1.0-2ubuntu1~18.04) ...\n",
            "Setting up libtsan0:amd64 (10.1.0-2ubuntu1~18.04) ...\n",
            "Setting up liblsan0:amd64 (10.1.0-2ubuntu1~18.04) ...\n",
            "Setting up libasan6:amd64 (10.1.0-2ubuntu1~18.04) ...\n",
            "Setting up libgomp-plugin-nvptx1:amd64 (10.1.0-2ubuntu1~18.04) ...\n",
            "Setting up libitm1:amd64 (10.1.0-2ubuntu1~18.04) ...\n",
            "Setting up libubsan1:amd64 (10.1.0-2ubuntu1~18.04) ...\n",
            "Setting up libgcc-10-dev:amd64 (10.1.0-2ubuntu1~18.04) ...\n",
            "Setting up gcc-10 (10.1.0-2ubuntu1~18.04) ...\n",
            "Setting up gcc-10-offload-nvptx (10.1.0-2ubuntu1~18.04) ...\n",
            "Setting up libstdc++-10-dev:amd64 (10.1.0-2ubuntu1~18.04) ...\n",
            "Setting up g++-10 (10.1.0-2ubuntu1~18.04) ...\n",
            "Processing triggers for libc-bin (2.27-3ubuntu1.2) ...\n",
            "/sbin/ldconfig.real: /usr/local/lib/python3.7/dist-packages/ideep4py/lib/libmkldnn.so.0 is not a symbolic link\n",
            "\n",
            "Processing triggers for man-db (2.8.3-2ubuntu0.1) ...\n"
          ],
          "name": "stdout"
        }
      ]
    },
    {
      "cell_type": "code",
      "metadata": {
        "colab": {
          "base_uri": "https://localhost:8080/"
        },
        "id": "iMlnVtsLfL4U",
        "outputId": "d70d84ef-69d4-43ad-e279-95217b39b098"
      },
      "source": [
        "!ls -l /usr/local/cuda"
      ],
      "execution_count": null,
      "outputs": [
        {
          "output_type": "stream",
          "text": [
            "lrwxrwxrwx 1 root root 9 Mar 18 13:30 /usr/local/cuda -> cuda-11.0\n"
          ],
          "name": "stdout"
        }
      ]
    },
    {
      "cell_type": "code",
      "metadata": {
        "colab": {
          "base_uri": "https://localhost:8080/"
        },
        "id": "9aomXkL-feVl",
        "outputId": "32c54a41-aa59-44df-ccc3-0700662224a1"
      },
      "source": [
        "!ln -sfnv /usr/local/cuda-10.0/ /usr/local/cuda"
      ],
      "execution_count": null,
      "outputs": [
        {
          "output_type": "stream",
          "text": [
            "'/usr/local/cuda' -> '/usr/local/cuda-10.0/'\n"
          ],
          "name": "stdout"
        }
      ]
    },
    {
      "cell_type": "code",
      "metadata": {
        "colab": {
          "base_uri": "https://localhost:8080/"
        },
        "id": "bRyACC01f81G",
        "outputId": "d920880a-6363-488b-8b95-1aece3e74ac8"
      },
      "source": [
        "%%writefile first.c\n",
        "\n",
        "#include <omp.h>\n",
        "#include <stdio.h>\n",
        "#include <stdlib.h>\n",
        "\n",
        "#define N 1024\n",
        "\n",
        "int A[N][N], B[N][N], C[N][N];\n",
        "\n",
        "int main() {\n",
        "  srand(3);\n",
        "\n",
        "  for (int i = 0; i < N; i++) {\n",
        "    for (int j = 0; j < N; j++) {\n",
        "      A[i][j] = rand() % N + 1;\n",
        "      B[i][j] = rand() % N + 1;\n",
        "    }\n",
        "  }\n",
        "\n",
        "printf(\"Total Devices = %d \\n\", omp_get_num_devices());\n",
        "#pragma omp target data map(to : A, B) map(from : C)\n",
        "  {\n",
        "#pragma omp parallel for\n",
        "    for (int i = 0; i < N; i++) {\n",
        "      for (int j = 0; j < N; j++)\n",
        "        C[i][j] = A[i][j] * B[i][j];\n",
        "    }\n",
        "  }\n",
        "\n",
        " return 0;\n",
        "}"
      ],
      "execution_count": null,
      "outputs": [
        {
          "output_type": "stream",
          "text": [
            "Writing first.c\n"
          ],
          "name": "stdout"
        }
      ]
    },
    {
      "cell_type": "code",
      "metadata": {
        "id": "iI2WUvIOg5Yk"
      },
      "source": [
        "!g++-10 -fno-lto -fopenmp -foffload=nvptx-none -fstack-protector first.c -o first"
      ],
      "execution_count": null,
      "outputs": []
    },
    {
      "cell_type": "code",
      "metadata": {
        "colab": {
          "base_uri": "https://localhost:8080/"
        },
        "id": "vfKFUfMrhHSU",
        "outputId": "f3b5b5af-8868-44f2-eb3d-25f6e62fd862"
      },
      "source": [
        "!nvprof ./first"
      ],
      "execution_count": null,
      "outputs": [
        {
          "output_type": "stream",
          "text": [
            "==1746== NVPROF is profiling process 1746, command: ./first\n",
            "Total Devices = 1 \n",
            "==1746== Profiling application: ./first\n",
            "==1746== Profiling result:\n",
            "            Type  Time(%)      Time     Calls       Avg       Min       Max  Name\n",
            " GPU activities:   74.85%  1.8347ms         2  917.37us  912.80us  921.95us  [CUDA memcpy HtoD]\n",
            "                   25.15%  616.36us         1  616.36us  616.36us  616.36us  [CUDA memcpy DtoH]\n",
            "      API calls:   82.76%  279.96ms         1  279.96ms  279.96ms  279.96ms  cuCtxCreate\n",
            "                   15.95%  53.968ms         1  53.968ms  53.968ms  53.968ms  cuCtxDestroy\n",
            "                    0.73%  2.4783ms         2  1.2392ms  1.2347ms  1.2436ms  cuMemcpyHtoD\n",
            "                    0.29%  971.55us         1  971.55us  971.55us  971.55us  cuMemcpyDtoH\n",
            "                    0.10%  354.62us         1  354.62us  354.62us  354.62us  cuDeviceGetPCIBusId\n",
            "                    0.07%  233.11us         1  233.11us  233.11us  233.11us  cuMemAlloc\n",
            "                    0.05%  160.80us         1  160.80us  160.80us  160.80us  cuMemFree\n",
            "                    0.03%  98.574us        16  6.1600us     181ns  92.463us  cuDeviceGetAttribute\n",
            "                    0.01%  17.690us         1  17.690us  17.690us  17.690us  cuDeviceGetName\n",
            "                    0.00%  7.5660us         7  1.0800us     236ns  3.1990us  cuCtxGetDevice\n",
            "                    0.00%  5.2730us         3  1.7570us  1.0950us  2.3470us  cuMemGetAddressRange\n",
            "                    0.00%  2.0630us         1  2.0630us  2.0630us  2.0630us  cuInit\n",
            "                    0.00%  1.7610us         4     440ns     120ns  1.1340us  cuDeviceGetCount\n",
            "                    0.00%  1.6180us         2     809ns     414ns  1.2040us  cuDeviceGet\n",
            "                    0.00%     567ns         1     567ns     567ns     567ns  cuCtxGetCurrent\n",
            "                    0.00%     256ns         1     256ns     256ns     256ns  cuDriverGetVersion\n"
          ],
          "name": "stdout"
        }
      ]
    },
    {
      "cell_type": "code",
      "metadata": {
        "colab": {
          "base_uri": "https://localhost:8080/"
        },
        "id": "tEnx3rAAVwjY",
        "outputId": "b09fc41b-ccfb-46d0-d1df-23a77bc417c6"
      },
      "source": [
        "%%writefile program1.c\n",
        "#include<stdio.h>\n",
        "#include<omp.h>\n",
        "int main ( ) {\n",
        "    #pragma omp parallel\n",
        "    {\n",
        "        printf(\"Hello World!\\n\")\n",
        "    }\n",
        "    return 0;\n",
        "  \n",
        "}"
      ],
      "execution_count": null,
      "outputs": [
        {
          "output_type": "stream",
          "text": [
            "Overwriting program1.c\n"
          ],
          "name": "stdout"
        }
      ]
    },
    {
      "cell_type": "code",
      "metadata": {
        "colab": {
          "base_uri": "https://localhost:8080/"
        },
        "id": "MyzCYMKmY3KA",
        "outputId": "05ecfe0e-8675-4b72-cee7-8f3c28566f53"
      },
      "source": [
        "!gcc program1.c -o serial\n"
      ],
      "execution_count": null,
      "outputs": [
        {
          "output_type": "stream",
          "text": [
            "\u001b[01m\u001b[Kprogram1.c:\u001b[m\u001b[K In function ‘\u001b[01m\u001b[Kmain\u001b[m\u001b[K’:\n",
            "\u001b[01m\u001b[Kprogram1.c:7:5:\u001b[m\u001b[K \u001b[01;31m\u001b[Kerror: \u001b[m\u001b[Kexpected ‘\u001b[01m\u001b[K;\u001b[m\u001b[K’ before ‘\u001b[01m\u001b[K}\u001b[m\u001b[K’ token\n",
            "     \u001b[01;31m\u001b[K}\u001b[m\u001b[K\n",
            "     \u001b[01;31m\u001b[K^\u001b[m\u001b[K\n"
          ],
          "name": "stdout"
        }
      ]
    },
    {
      "cell_type": "code",
      "metadata": {
        "colab": {
          "base_uri": "https://localhost:8080/",
          "height": 128
        },
        "id": "sR_zljFah86M",
        "outputId": "fd7f4e21-20af-47b1-d05a-999491d87437"
      },
      "source": [
        "./a.out"
      ],
      "execution_count": null,
      "outputs": [
        {
          "output_type": "error",
          "ename": "SyntaxError",
          "evalue": "ignored",
          "traceback": [
            "\u001b[0;36m  File \u001b[0;32m\"<ipython-input-1-1c3da56944cb>\"\u001b[0;36m, line \u001b[0;32m1\u001b[0m\n\u001b[0;31m    ./a.out\u001b[0m\n\u001b[0m    ^\u001b[0m\n\u001b[0;31mSyntaxError\u001b[0m\u001b[0;31m:\u001b[0m invalid syntax\n"
          ]
        }
      ]
    }
  ]
}